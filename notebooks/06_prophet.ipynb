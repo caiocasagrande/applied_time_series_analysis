{
 "cells": [
  {
   "cell_type": "markdown",
   "metadata": {},
   "source": [
    "# Prophet"
   ]
  },
  {
   "cell_type": "markdown",
   "metadata": {},
   "source": [
    "### Benefits of using Prophet:\n",
    "- Fully automatic: very quick to get forecasts\n",
    "- Can handle non-linear trend, missing data, outliers, changing trends and holiday effects\n",
    "- Fast and tunable\n",
    "\n",
    "### When to use Prophet\n",
    "- Works best when a lot of data is available\n",
    "- Very good when time series have strong seasonal effects"
   ]
  },
  {
   "cell_type": "markdown",
   "metadata": {},
   "source": [
    "## 0. Imports"
   ]
  },
  {
   "cell_type": "markdown",
   "metadata": {},
   "source": [
    "### 0.1. Libraries"
   ]
  },
  {
   "cell_type": "code",
   "execution_count": null,
   "metadata": {},
   "outputs": [],
   "source": [
    "# Data Manipulation\n",
    "import pandas               as pd\n",
    "import numpy                as np\n",
    "\n",
    "# Data Visualisation\n",
    "import seaborn              as sns\n",
    "import matplotlib           as mpl\n",
    "import matplotlib.pyplot    as plt\n",
    "import matplotlib.dates     as mdates\n",
    "\n",
    "# Prophet\n",
    "from prophet import Prophet\n",
    "\n",
    "# Other \n",
    "import warnings"
   ]
  },
  {
   "cell_type": "markdown",
   "metadata": {},
   "source": [
    "### 0.2. Settings"
   ]
  },
  {
   "cell_type": "code",
   "execution_count": null,
   "metadata": {},
   "outputs": [],
   "source": [
    "# Ignoring warnings\n",
    "warnings.filterwarnings('ignore')\n",
    "\n",
    "# Pandas Settings\n",
    "pd.set_option('display.float_format', lambda x: '%.2f' % x)\n",
    "pd.set_option('display.max_columns', None)\n",
    "\n",
    "# Visualization Settings\n",
    "%matplotlib inline\n",
    "\n",
    "# Set a style\n",
    "mpl.style.use('ggplot')  # Other options: 'default', 'seaborn', 'bmh', 'dark_background'\n",
    "\n",
    "# Customize rcParams\n",
    "mpl.rcParams.update({\n",
    "    'figure.titlesize': 24,\n",
    "    'figure.figsize': (18, 6),\n",
    "    'figure.dpi': 150,\n",
    "    'axes.titlesize': 14,\n",
    "    'axes.labelsize': 12,\n",
    "    'axes.facecolor': 'white',\n",
    "    'axes.linewidth': 1,\n",
    "    'axes.grid': True,\n",
    "    'xtick.labelsize': 12,\n",
    "    'xtick.color': 'black',\n",
    "    'ytick.labelsize': 12,\n",
    "    'ytick.color': 'black',\n",
    "    'legend.fontsize': 12,\n",
    "    'lines.linewidth': 2,\n",
    "    'lines.markersize': 6,\n",
    "    'grid.color': 'lightgray',\n",
    "    'grid.linestyle': '--',\n",
    "    'grid.linewidth': 0.5,\n",
    "    'font.size': 12,\n",
    "    'font.family': 'sans-serif',\n",
    "    'font.sans-serif': ['Arial']\n",
    "})\n",
    "\n",
    "# Set a color palette\n",
    "color_palette = ['#023047', '#e85d04', '#0077b6', '#ff8200', '#0096c7', '#ff9c33']\n",
    "sns.set_palette(sns.color_palette(color_palette)) \n",
    "\n",
    "# Display color palette\n",
    "sns.color_palette(color_palette)"
   ]
  },
  {
   "cell_type": "markdown",
   "metadata": {},
   "source": [
    "### 0.3. Functions"
   ]
  },
  {
   "cell_type": "markdown",
   "metadata": {},
   "source": [
    "### 0.4. Dataset"
   ]
  },
  {
   "cell_type": "code",
   "execution_count": null,
   "metadata": {},
   "outputs": [],
   "source": [
    "df = pd.read_csv('../data/raw/daily-min-temperatures.csv')"
   ]
  },
  {
   "cell_type": "markdown",
   "metadata": {},
   "source": [
    "## 1. Data Exploration"
   ]
  },
  {
   "cell_type": "code",
   "execution_count": null,
   "metadata": {},
   "outputs": [],
   "source": [
    "df.info()\n",
    "df"
   ]
  },
  {
   "cell_type": "code",
   "execution_count": null,
   "metadata": {},
   "outputs": [],
   "source": [
    "df.describe().T"
   ]
  },
  {
   "cell_type": "code",
   "execution_count": null,
   "metadata": {},
   "outputs": [],
   "source": [
    "fig, ax = plt.subplots()\n",
    "\n",
    "locator = mdates.AutoDateLocator()\n",
    "\n",
    "ax.plot(df.Date, df.Temp)\n",
    "\n",
    "ax.xaxis.set_major_locator(locator)\n",
    "\n",
    "ax.set_xlabel('Date')\n",
    "ax.set_ylabel('Temperature (°C)')\n",
    "ax.set_title('Daily Minimum Temperature')\n",
    "\n",
    "fig.autofmt_xdate() # Automatically format the x-axis date\n",
    "\n",
    "plt.tight_layout()\n",
    "\n",
    "plt.show()"
   ]
  },
  {
   "cell_type": "markdown",
   "metadata": {},
   "source": [
    "## Prophet quickstart"
   ]
  },
  {
   "cell_type": "code",
   "execution_count": null,
   "metadata": {},
   "outputs": [],
   "source": [
    "df.columns = ['ds', 'y']\n",
    "df.head()"
   ]
  },
  {
   "cell_type": "code",
   "execution_count": null,
   "metadata": {},
   "outputs": [],
   "source": [
    "m = Prophet()\n",
    "m.fit(df)"
   ]
  },
  {
   "cell_type": "code",
   "execution_count": null,
   "metadata": {},
   "outputs": [],
   "source": []
  }
 ],
 "metadata": {
  "kernelspec": {
   "display_name": "time_series_10",
   "language": "python",
   "name": "python3"
  },
  "language_info": {
   "codemirror_mode": {
    "name": "ipython",
    "version": 3
   },
   "file_extension": ".py",
   "mimetype": "text/x-python",
   "name": "python",
   "nbconvert_exporter": "python",
   "pygments_lexer": "ipython3",
   "version": "3.10.12"
  }
 },
 "nbformat": 4,
 "nbformat_minor": 2
}
